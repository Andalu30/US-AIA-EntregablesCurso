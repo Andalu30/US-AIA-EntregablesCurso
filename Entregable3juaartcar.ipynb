{
 "cells": [
  {
   "cell_type": "markdown",
   "metadata": {},
   "source": [
    "# Entregable 3 (scikit-learn)\n",
    "Ampliación de inteligencia artificial - 3º Curso  \n",
    "Ingeniería Informática - Tecnologías Informáticas  \n",
    "Universidad de Sevilla  \n",
    "\n",
    "Entregable realizado por **Juan Arteaga Carmona**"
   ]
  },
  {
   "cell_type": "code",
   "execution_count": 1,
   "metadata": {},
   "outputs": [],
   "source": [
    "# Imports necesarios\n",
    "import numpy as np\n",
    "import sklearn\n",
    "import matplotlib.pyplot as plt\n",
    "from sklearn.datasets import load_breast_cancer\n",
    "from sklearn.model_selection import train_test_split\n",
    "from sklearn.neighbors import KNeighborsClassifier\n",
    "from sklearn.preprocessing import StandardScaler\n",
    "from sklearn.linear_model import LinearRegression, Ridge, Lasso, LogisticRegression\n",
    "from sklearn.svm import LinearSVC\n",
    "from sklearn.neural_network import MLPClassifier  \n",
    "from sklearn.model_selection import GridSearchCV\n",
    "from sklearn.metrics import classification_report, confusion_matrix\n",
    "import warnings\n",
    "warnings.filterwarnings('ignore')"
   ]
  },
  {
   "cell_type": "markdown",
   "metadata": {},
   "source": [
    "# Importación y normalización de los datos"
   ]
  },
  {
   "cell_type": "markdown",
   "metadata": {},
   "source": [
    "Inicialmente importamos el dataset y lo dividimos en las partes que nos interesan. Nos quedaremos con los datos y la clase de cada uno asi como con el nombre de las clases."
   ]
  },
  {
   "cell_type": "code",
   "execution_count": 2,
   "metadata": {},
   "outputs": [
    {
     "name": "stdout",
     "output_type": "stream",
     "text": [
      "(569, 30)\n",
      "(569,)\n",
      "['malignant' 'benign']\n"
     ]
    }
   ],
   "source": [
    "datoscancer = load_breast_cancer() # Importación del dataset\n",
    "\n",
    "X = datoscancer.data # Datos\n",
    "y = datoscancer.target # Clasificacion\n",
    "\n",
    "y_names = datoscancer.target_names # Nombres de la clasificacion (0=maligno, 1=benigno)\n",
    "\n",
    "print(np.shape(X))\n",
    "print(np.shape(y))\n",
    "print(y_names)"
   ]
  },
  {
   "cell_type": "markdown",
   "metadata": {},
   "source": [
    "A continuación creamos el conjunto de entrenamiento y testeo a partir de los datos. Esta operación la realizamos con la funcion `train_test_split`. Le añadimos como parámetro una semilla (42) para que sea posible recrear los resultados obtenidos.\n",
    "Además creamos un normalizador con `StandardScaler` y normalizamos los datos de nuestro dataset."
   ]
  },
  {
   "cell_type": "code",
   "execution_count": 3,
   "metadata": {},
   "outputs": [],
   "source": [
    "X_train, X_test, y_train, y_test = train_test_split(X,y, random_state=42)"
   ]
  },
  {
   "cell_type": "code",
   "execution_count": 4,
   "metadata": {},
   "outputs": [],
   "source": [
    "normalizador = StandardScaler().fit(X_train)\n",
    "Xnormalized_train = normalizador.transform(X_train)\n",
    "Xnormalized_test = normalizador.transform(X_test)"
   ]
  },
  {
   "cell_type": "markdown",
   "metadata": {},
   "source": [
    "# Aplicación de clasificadores sobre los datos\n",
    "## Knn\n",
    "Creamos un clasificador Knn con n=2 y lo entrenamos contra nuestros datos normalizados."
   ]
  },
  {
   "cell_type": "code",
   "execution_count": 5,
   "metadata": {},
   "outputs": [],
   "source": [
    "knn=KNeighborsClassifier(n_neighbors=2)"
   ]
  },
  {
   "cell_type": "code",
   "execution_count": 6,
   "metadata": {},
   "outputs": [
    {
     "data": {
      "text/plain": [
       "KNeighborsClassifier(algorithm='auto', leaf_size=30, metric='minkowski',\n",
       "                     metric_params=None, n_jobs=None, n_neighbors=2, p=2,\n",
       "                     weights='uniform')"
      ]
     },
     "execution_count": 6,
     "metadata": {},
     "output_type": "execute_result"
    }
   ],
   "source": [
    "knn.fit(Xnormalized_train, y_train)"
   ]
  },
  {
   "cell_type": "markdown",
   "metadata": {},
   "source": [
    "Comprobamos el score que se obtiene con este entrenamiento"
   ]
  },
  {
   "cell_type": "code",
   "execution_count": 7,
   "metadata": {},
   "outputs": [
    {
     "data": {
      "text/plain": [
       "0.9859154929577465"
      ]
     },
     "execution_count": 7,
     "metadata": {},
     "output_type": "execute_result"
    }
   ],
   "source": [
    "knn.score(Xnormalized_train,y_train)"
   ]
  },
  {
   "cell_type": "markdown",
   "metadata": {},
   "source": [
    "Ademas, podemos ver y comparar la predicción del modelo frente a los datos reales:"
   ]
  },
  {
   "cell_type": "code",
   "execution_count": 54,
   "metadata": {},
   "outputs": [
    {
     "name": "stdout",
     "output_type": "stream",
     "text": [
      "Predicción:\n",
      "[1 0 0 1 1 0 0 0 0 1 1 0 1 1 1 0 1 1 1 0 1 1 0 1 1 1 1 1 1 0 1 1 1 1 1 1 0\n",
      " 1 0 1 1 0 1 1 1 0 1 1 1 1 0 0 0 1 1 1 1 0 0 1 1 0 0 1 1 1 0 0 1 1 0 0 1 0\n",
      " 1 1 1 1 1 1 0 1 0 0 0 0 0 0 1 1 1 0 1 1 1 1 0 0 1 0 0 1 0 0 1 1 1 0 1 1 0\n",
      " 1 1 0 1 0 1 1 1 0 1 1 1 0 1 0 0 1 1 0 0 0 1 1 1 0 1 1 1 0 1 0 1]\n",
      "\n",
      "Datos reales:\n",
      "[1 0 0 1 1 0 0 0 1 1 1 0 1 0 1 0 1 1 1 0 0 1 0 1 1 1 1 1 1 0 1 1 1 1 1 1 0\n",
      " 1 0 1 1 0 1 1 1 1 1 1 1 1 0 0 1 1 1 1 1 0 0 1 1 0 0 1 1 1 0 0 1 1 0 0 1 0\n",
      " 1 1 1 0 1 1 0 1 0 0 0 0 0 0 1 1 1 1 1 1 1 1 0 0 1 0 0 1 0 0 1 1 1 0 1 1 0\n",
      " 1 1 0 1 0 1 1 1 0 1 1 1 0 1 0 0 1 1 0 0 0 1 1 1 0 1 1 1 0 1 0 1]\n"
     ]
    }
   ],
   "source": [
    "print(\"Predicción:\")\n",
    "predicciones = knn.predict(Xnormalized_test)\n",
    "print(predicciones)\n",
    "\n",
    "print(\"\\nDatos reales:\")\n",
    "print(y_test)"
   ]
  },
  {
   "cell_type": "markdown",
   "metadata": {},
   "source": [
    "De esta forma si obtenemos el score del modelo contra los datos de prueba obtenemos:"
   ]
  },
  {
   "cell_type": "code",
   "execution_count": 55,
   "metadata": {},
   "outputs": [
    {
     "data": {
      "text/plain": [
       "0.951048951048951"
      ]
     },
     "execution_count": 55,
     "metadata": {},
     "output_type": "execute_result"
    }
   ],
   "source": [
    "knn.score(Xnormalized_test,y_test)"
   ]
  },
  {
   "cell_type": "markdown",
   "metadata": {},
   "source": [
    "Y como podemos observar, el 95% de las predicciones son correctas.\n",
    "\n",
    "Con un simple script podemos consultar el número de vecinos con el que obtenemos el mejor score para nuestro conjunto de prueba."
   ]
  },
  {
   "cell_type": "code",
   "execution_count": 56,
   "metadata": {},
   "outputs": [
    {
     "data": {
      "text/plain": [
       "<matplotlib.legend.Legend at 0x7fe61e790240>"
      ]
     },
     "execution_count": 56,
     "metadata": {},
     "output_type": "execute_result"
    },
    {
     "data": {
      "image/png": "[encoded data removed]",
      "text/plain": [
       "<Figure size 432x288 with 1 Axes>"
      ]
     },
     "metadata": {
      "needs_background": "light"
     },
     "output_type": "display_data"
    }
   ],
   "source": [
    "training_accuracy = []\n",
    "test_accuracy = []\n",
    "\n",
    "neighbors_settings = range(1, 15)\n",
    "\n",
    "for n_neighbors in neighbors_settings:\n",
    "    # build the model\n",
    "    clf = KNeighborsClassifier(n_neighbors=n_neighbors)\n",
    "    clf.fit(Xnormalized_train, y_train)\n",
    "\n",
    "    training_accuracy.append(clf.score(Xnormalized_train, y_train))\n",
    "    test_accuracy.append(clf.score(Xnormalized_test, y_test))\n",
    "    \n",
    "plt.plot(neighbors_settings, training_accuracy, label=\"Datos de entrenamiento\")\n",
    "plt.plot(neighbors_settings, test_accuracy, label=\"Datos de prueba\")\n",
    "plt.ylabel(\"Precisión\")\n",
    "plt.xlabel(\"Número de vecinos\")\n",
    "plt.legend()"
   ]
  },
  {
   "cell_type": "markdown",
   "metadata": {},
   "source": [
    "Como se puede observar, el mejor ajuste se dará a partir de 8 vecinos.\n",
    "\n",
    "Ademas, podemos aplicar `GridSearch` para asegurarnos de que esto es así."
   ]
  },
  {
   "cell_type": "code",
   "execution_count": 58,
   "metadata": {},
   "outputs": [
    {
     "name": "stdout",
     "output_type": "stream",
     "text": [
      "Mejor resultado (media) en validación cruzada: 0.96\n",
      "Mejor clasificador encontrado: {} KNeighborsClassifier(algorithm='auto', leaf_size=30, metric='minkowski',\n",
      "                     metric_params=None, n_jobs=None, n_neighbors=8, p=2,\n",
      "                     weights='uniform')\n",
      "Evaluación sobre el conjunto de test: 0.97\n",
      "\n"
     ]
    }
   ],
   "source": [
    "param_grid = {'n_neighbors': [x for x in range(2,15)]}\n",
    "grid_search = GridSearchCV(KNeighborsClassifier(), param_grid, cv=5,\n",
    "                          return_train_score=True) \n",
    "grid_search.fit(Xnormalized_train, y_train)\n",
    "print(\"Mejor resultado (media) en validación cruzada: {:.2f}\".format(grid_search.best_score_))\n",
    "print(\"Mejor clasificador encontrado: {}\", grid_search.best_estimator_)\n",
    "print(\"Evaluación sobre el conjunto de test: {:.2f}\\n\".format(grid_search.score(Xnormalized_test, y_test)))"
   ]
  },
  {
   "cell_type": "markdown",
   "metadata": {},
   "source": [
    "Al aplicar `GridSearch` hemos obtenido el clasificador que nos da mas precisión, el clasificador con n_neighboors=8 es el mejor.\n",
    "\n",
    "Y tambien podemos calcular la matriz de confusión de este clasificador para ver los resultados de una forma más grafica."
   ]
  },
  {
   "cell_type": "code",
   "execution_count": 59,
   "metadata": {},
   "outputs": [
    {
     "name": "stdout",
     "output_type": "stream",
     "text": [
      "[[51  3]\n",
      " [ 4 85]]\n",
      "              precision    recall  f1-score   support\n",
      "\n",
      "   malignant       0.93      0.94      0.94        54\n",
      "      benign       0.97      0.96      0.96        89\n",
      "\n",
      "    accuracy                           0.95       143\n",
      "   macro avg       0.95      0.95      0.95       143\n",
      "weighted avg       0.95      0.95      0.95       143\n",
      "\n"
     ]
    }
   ],
   "source": [
    "kclas = KNeighborsClassifier(algorithm='auto', leaf_size=30, metric='minkowski',\n",
    "                     metric_params=None, n_jobs=None, n_neighbors=8, p=2,\n",
    "                     weights='uniform')\n",
    "kclas.fit(Xnormalized_train, y_train)\n",
    "prediccion = kclas.predict(Xnormalized_test)\n",
    "\n",
    "print(confusion_matrix(y_test,predicciones))\n",
    "print(classification_report(y_test,predicciones,target_names=y_names))"
   ]
  },
  {
   "cell_type": "markdown",
   "metadata": {},
   "source": [
    "Podemos ver como TN=51, FP=3, FN=4 y TP=85 y el f1-score nos da 95%"
   ]
  },
  {
   "cell_type": "markdown",
   "metadata": {},
   "source": [
    "## Regresión lineal\n",
    "Creamos un modelo de regresión lineal con el metodo `LinearRegression()`. LinearRegression llevará a cabo el método de mínimos cuadrados."
   ]
  },
  {
   "cell_type": "code",
   "execution_count": 60,
   "metadata": {},
   "outputs": [],
   "source": [
    "lr = LinearRegression().fit(Xnormalized_train, y_train)"
   ]
  },
  {
   "cell_type": "code",
   "execution_count": 61,
   "metadata": {},
   "outputs": [
    {
     "name": "stdout",
     "output_type": "stream",
     "text": [
      "Rendimiento sobre el conjunto de entrenamiento: 0.78\n",
      "Rendimiento sobre el conjunto de test: 0.73\n"
     ]
    }
   ],
   "source": [
    "print(\"Rendimiento sobre el conjunto de entrenamiento: {:.2f}\".format(lr.score(Xnormalized_train, y_train)))\n",
    "print(\"Rendimiento sobre el conjunto de test: {:.2f}\".format(lr.score(Xnormalized_test, y_test)))"
   ]
  },
  {
   "cell_type": "markdown",
   "metadata": {},
   "source": [
    "A los modelos de regresión lineal podemos aplicarles regularización. En este caso vamos a aplicarle regularizacion L2, o Ridge y como podemos ver, a medida que cambiamos el valor de alpha obtenemos distintos resultados."
   ]
  },
  {
   "cell_type": "code",
   "execution_count": 62,
   "metadata": {},
   "outputs": [
    {
     "name": "stdout",
     "output_type": "stream",
     "text": [
      "Rendimiento sobre el conjunto de entrenamiento: 0.77\n",
      "Rendimiento sobre el conjunto de test: 0.74\n"
     ]
    }
   ],
   "source": [
    "ridge = Ridge(alpha=1).fit(Xnormalized_train, y_train)\n",
    "print(\"Rendimiento sobre el conjunto de entrenamiento: {:.2f}\".format(ridge.score(Xnormalized_train, y_train)))\n",
    "print(\"Rendimiento sobre el conjunto de test: {:.2f}\".format(ridge.score(Xnormalized_test, y_test)))"
   ]
  },
  {
   "cell_type": "code",
   "execution_count": 16,
   "metadata": {},
   "outputs": [
    {
     "name": "stdout",
     "output_type": "stream",
     "text": [
      "Rendimiento sobre el conjunto de entrenamiento: 0.77\n",
      "Rendimiento sobre el conjunto de test: 0.73\n"
     ]
    }
   ],
   "source": [
    "ridge = Ridge(alpha=0.1).fit(Xnormalized_train, y_train)\n",
    "print(\"Rendimiento sobre el conjunto de entrenamiento: {:.2f}\".format(ridge.score(Xnormalized_train, y_train)))\n",
    "print(\"Rendimiento sobre el conjunto de test: {:.2f}\".format(ridge.score(Xnormalized_test, y_test)))"
   ]
  },
  {
   "cell_type": "markdown",
   "metadata": {},
   "source": [
    "Asi pues, podemos generar un pequeño script que compruebe con que valores obtenemos mejor precisión:"
   ]
  },
  {
   "cell_type": "code",
   "execution_count": 81,
   "metadata": {},
   "outputs": [
    {
     "data": {
      "text/plain": [
       "<matplotlib.legend.Legend at 0x7fe61e2a44a8>"
      ]
     },
     "execution_count": 81,
     "metadata": {},
     "output_type": "execute_result"
    },
    {
     "data": {
      "image/png": "[encoded data removed]",
      "text/plain": [
       "<Figure size 432x288 with 1 Axes>"
      ]
     },
     "metadata": {
      "needs_background": "light"
     },
     "output_type": "display_data"
    }
   ],
   "source": [
    "training_accuracy = []\n",
    "test_accuracy = []\n",
    "\n",
    "alpha_settings = np.arange(0,40,0.1)#[0,1,2...49,50]\n",
    "for alphaParam in alpha_settings:\n",
    "    ridge = Ridge(alpha=alphaParam).fit(Xnormalized_train, y_train)\n",
    "    a = ridge.score(Xnormalized_train, y_train)\n",
    "    b = ridge.score(Xnormalized_test, y_test)\n",
    "    \n",
    "    training_accuracy.append(a)\n",
    "    test_accuracy.append(b)\n",
    "\n",
    "plt.plot(alpha_settings, training_accuracy, label=\"Datos de entrenamiento\")\n",
    "plt.plot(alpha_settings, test_accuracy, label=\"Datos de prueba\")\n",
    "plt.ylabel(\"Precisión\")\n",
    "plt.xlabel(\"Alpha\")\n",
    "plt.legend()"
   ]
  },
  {
   "cell_type": "markdown",
   "metadata": {},
   "source": [
    "Como podemos observar, el valor maximo de la precisión sobre el conjunto de datos de prueba se obtiene aproximadamente sobre un valor de alpha de 19.  \n",
    "Para confirmarlo podemos utilizar `GridSearch`"
   ]
  },
  {
   "cell_type": "code",
   "execution_count": 84,
   "metadata": {},
   "outputs": [
    {
     "name": "stdout",
     "output_type": "stream",
     "text": [
      "Mejor resultado (media) en validación cruzada: 0.72\n",
      "Mejor clasificador encontrado: Ridge(alpha=19.900000000000002, copy_X=True, fit_intercept=True, max_iter=None,\n",
      "      normalize=False, random_state=None, solver='auto', tol=0.001)\n",
      "Evaluación sobre el conjunto de test: 0.79\n"
     ]
    }
   ],
   "source": [
    "param_grid = {'alpha': [i for i in  np.arange(0,20,0.1)]}\n",
    "grid_search = GridSearchCV(Ridge(), param_grid,\n",
    "                          return_train_score=True) \n",
    "grid_search.fit(Xnormalized_test, y_test)\n",
    "\n",
    "print(\"Mejor resultado (media) en validación cruzada: {:.2f}\".format(grid_search.best_score_))\n",
    "print(\"Mejor clasificador encontrado: {}\".format(grid_search.best_estimator_))\n",
    "print(\"Evaluación sobre el conjunto de test: {:.2f}\".format(grid_search.score(Xnormalized_test, y_test)))"
   ]
  },
  {
   "cell_type": "markdown",
   "metadata": {},
   "source": [
    "<br>\n",
    "\n",
    "Tambien podemos aplicar regularización L1 con el metodo `Lasso()`"
   ]
  },
  {
   "cell_type": "code",
   "execution_count": 85,
   "metadata": {},
   "outputs": [
    {
     "name": "stdout",
     "output_type": "stream",
     "text": [
      "Rendimiento sobre el conjunto de entrenamiento: 0.77\n",
      "Rendimiento sobre el conjunto de test: 0.76\n",
      "Número de coeficientes (pesos) no nulos: 21\n"
     ]
    }
   ],
   "source": [
    "lasso = Lasso(alpha=0.001).fit(Xnormalized_train, y_train)\n",
    "print(\"Rendimiento sobre el conjunto de entrenamiento: {:.2f}\".format(lasso.score(Xnormalized_train, y_train)))\n",
    "print(\"Rendimiento sobre el conjunto de test: {:.2f}\".format(lasso.score(Xnormalized_test, y_test)))\n",
    "print(\"Número de coeficientes (pesos) no nulos: {}\".format(np.sum(lasso.coef_ != 0)))"
   ]
  },
  {
   "cell_type": "code",
   "execution_count": 86,
   "metadata": {},
   "outputs": [
    {
     "data": {
      "text/plain": [
       "<matplotlib.legend.Legend at 0x7fe61e217080>"
      ]
     },
     "execution_count": 86,
     "metadata": {},
     "output_type": "execute_result"
    },
    {
     "data": {
      "image/png": "[encoded data removed]",
      "text/plain": [
       "<Figure size 432x288 with 1 Axes>"
      ]
     },
     "metadata": {
      "needs_background": "light"
     },
     "output_type": "display_data"
    }
   ],
   "source": [
    "training_accuracy = []\n",
    "test_accuracy = []\n",
    "\n",
    "alpha_settings = np.arange(0,0.01,0.00025)\n",
    "for alphaParam in alpha_settings:\n",
    "    lasso = Lasso(alpha=alphaParam).fit(Xnormalized_train, y_train)\n",
    "    a = lasso.score(Xnormalized_train, y_train)\n",
    "    b = lasso.score(Xnormalized_test, y_test)\n",
    "    \n",
    "    training_accuracy.append(a)\n",
    "    test_accuracy.append(b)\n",
    "\n",
    "plt.plot(alpha_settings, training_accuracy, label=\"Precisión con los datos de entrenamiento\")\n",
    "plt.plot(alpha_settings, test_accuracy, label=\"Precisión con los datos de prueba\")\n",
    "plt.ylabel(\"Precisión\")\n",
    "plt.xlabel(\"Alpha\")\n",
    "plt.legend()"
   ]
  },
  {
   "cell_type": "markdown",
   "metadata": {},
   "source": [
    "Como podemos observar obtenemos la máxima precisión con un valor de alpha de aproximadamente 0.001. Una vez mas podemos utilizar `GridSearch` para asegurarnos de que nuestra suposicion es correcta."
   ]
  },
  {
   "cell_type": "code",
   "execution_count": 87,
   "metadata": {},
   "outputs": [
    {
     "name": "stdout",
     "output_type": "stream",
     "text": [
      "Mejor resultado (media) en validación cruzada: 0.71\n",
      "Mejor clasificador encontrado: {} Lasso(alpha=0.001, copy_X=True, fit_intercept=True, max_iter=1000,\n",
      "      normalize=False, positive=False, precompute=False, random_state=None,\n",
      "      selection='cyclic', tol=0.0001, warm_start=False)\n",
      "Evaluación sobre el conjunto de test: 0.76\n"
     ]
    }
   ],
   "source": [
    "param_grid = {'alpha': [x for x in np.arange(0,0.01,0.00025)]}\n",
    "grid_search = GridSearchCV(Lasso(), param_grid, cv=5,\n",
    "                          return_train_score=True) \n",
    "grid_search.fit(Xnormalized_train, y_train)\n",
    "\n",
    "print(\"Mejor resultado (media) en validación cruzada: {:.2f}\".format(grid_search.best_score_))\n",
    "print(\"Mejor clasificador encontrado: {}\", grid_search.best_estimator_)\n",
    "print(\"Evaluación sobre el conjunto de test: {:.2f}\".format(grid_search.score(Xnormalized_test, y_test)))"
   ]
  },
  {
   "cell_type": "markdown",
   "metadata": {},
   "source": [
    "Y como podemos ver, el mejor clasificador es `Lasso(alpha=0.001, copy_X=True, fit_intercept=True, max_iter=1000,\n",
    "      normalize=False, positive=False, precompute=False, random_state=None,\n",
    "      selection='cyclic', tol=0.0001, warm_start=False)` cuya alpha es 0.001, luego nuestra suposición es correcta."
   ]
  },
  {
   "cell_type": "markdown",
   "metadata": {},
   "source": [
    "## Regresión logística\n",
    "También podemos aplicar regresión logistica con el método `LogisticRegression` y al igual que en apartados anteriores ver la evolución de la precisión a medida que cambiamos el parámetro C con un pequeño script."
   ]
  },
  {
   "cell_type": "code",
   "execution_count": 88,
   "metadata": {},
   "outputs": [
    {
     "name": "stdout",
     "output_type": "stream",
     "text": [
      "Rendimiento sobre entrenamiento: 0.986\n",
      "Rendimiento sobre el conjunto de prueba: 0.979\n"
     ]
    }
   ],
   "source": [
    "logreg = LogisticRegression().fit(Xnormalized_train, y_train)\n",
    "print(\"Rendimiento sobre entrenamiento: {:.3f}\".format(logreg.score(Xnormalized_train, y_train)))\n",
    "print(\"Rendimiento sobre el conjunto de prueba: {:.3f}\".format(logreg.score(Xnormalized_test, y_test)))"
   ]
  },
  {
   "cell_type": "code",
   "execution_count": 89,
   "metadata": {},
   "outputs": [
    {
     "data": {
      "text/plain": [
       "<matplotlib.legend.Legend at 0x7fe61e0d7828>"
      ]
     },
     "execution_count": 89,
     "metadata": {},
     "output_type": "execute_result"
    },
    {
     "data": {
      "image/png": "[encoded data removed]",
      "text/plain": [
       "<Figure size 432x288 with 1 Axes>"
      ]
     },
     "metadata": {
      "needs_background": "light"
     },
     "output_type": "display_data"
    }
   ],
   "source": [
    "training_accuracy = []\n",
    "test_accuracy = []\n",
    "\n",
    "c_settings = np.arange(0.001,1,0.005)\n",
    "for cparam in c_settings:\n",
    "    logreg = LogisticRegression(C=cparam).fit(Xnormalized_train, y_train)\n",
    "    a = logreg.score(Xnormalized_train, y_train)\n",
    "    b = logreg.score(Xnormalized_test, y_test)\n",
    "    training_accuracy.append(a)\n",
    "    test_accuracy.append(b)\n",
    "plt.plot(c_settings, training_accuracy, label=\"Precisión con los datos de entrenamiento\")\n",
    "plt.plot(c_settings, test_accuracy, label=\"Precisión con los datos de prueba\")\n",
    "plt.ylabel(\"Precisión\")\n",
    "plt.xlabel(\"C\")\n",
    "plt.legend()"
   ]
  },
  {
   "cell_type": "markdown",
   "metadata": {},
   "source": [
    "Aproximadamente en 0.1 hemos obtenido el máximo en los datos de prueba. Para comprobarlo vamos a utilizar el algoritmo `GridSearchCV`"
   ]
  },
  {
   "cell_type": "code",
   "execution_count": 91,
   "metadata": {},
   "outputs": [
    {
     "name": "stdout",
     "output_type": "stream",
     "text": [
      "Mejor resultado (media) en validación cruzada: 0.98\n",
      "Mejor clasificador encontrado: {} LogisticRegression(C=0.996, class_weight=None, dual=False, fit_intercept=True,\n",
      "                   intercept_scaling=1, l1_ratio=None, max_iter=100,\n",
      "                   multi_class='warn', n_jobs=None, penalty='l2',\n",
      "                   random_state=None, solver='warn', tol=0.0001, verbose=0,\n",
      "                   warm_start=False)\n",
      "Evaluación sobre el conjunto de test: 0.98\n"
     ]
    }
   ],
   "source": [
    "param_grid = {'C': [x for x in np.arange(0.001,1.0,0.005)]}\n",
    "grid_search = GridSearchCV(LogisticRegression(), param_grid, cv=5,\n",
    "                          return_train_score=True) \n",
    "grid_search.fit(Xnormalized_train, y_train)\n",
    "\n",
    "print(\"Mejor resultado (media) en validación cruzada: {:.2f}\".format(grid_search.best_score_))\n",
    "print(\"Mejor clasificador encontrado: {}\", grid_search.best_estimator_)\n",
    "print(\"Evaluación sobre el conjunto de test: {:.2f}\".format(grid_search.score(Xnormalized_test, y_test)))"
   ]
  },
  {
   "cell_type": "markdown",
   "metadata": {},
   "source": [
    "Tras aplicar el algoritmo podemos confirmar que el máximo se da con un valor de C de 0.996  \n",
    "Podemos ver los resultados graficamente con una matriz de confusion"
   ]
  },
  {
   "cell_type": "code",
   "execution_count": 92,
   "metadata": {},
   "outputs": [
    {
     "name": "stdout",
     "output_type": "stream",
     "text": [
      "Matriz de confusión:\n",
      "[[53  1]\n",
      " [ 0 89]]\n",
      "              precision    recall  f1-score   support\n",
      "\n",
      "   malignant       1.00      0.98      0.99        54\n",
      "      benign       0.99      1.00      0.99        89\n",
      "\n",
      "    accuracy                           0.99       143\n",
      "   macro avg       0.99      0.99      0.99       143\n",
      "weighted avg       0.99      0.99      0.99       143\n",
      "\n"
     ]
    }
   ],
   "source": [
    "lr = LogisticRegression(C=0.1, class_weight=None, dual=False,\n",
    "                   fit_intercept=True, intercept_scaling=1, l1_ratio=None,\n",
    "                   max_iter=100, multi_class='warn', n_jobs=None, penalty='l2',\n",
    "                   random_state=None, solver='warn', tol=0.0001, verbose=0,\n",
    "                   warm_start=False)\n",
    "lr.fit(Xnormalized_train, y_train)\n",
    "prediccion = lr.predict(Xnormalized_test)\n",
    "print(\"Matriz de confusión:\")\n",
    "print(confusion_matrix(y_test, prediccion))\n",
    "print(classification_report(y_test, prediccion,target_names=y_names))"
   ]
  },
  {
   "cell_type": "markdown",
   "metadata": {},
   "source": [
    "Y podemos ver como los resultados son: TN=53, FP=1, FN=0, TP=89 y el clasificador tiene un f1-score del 99%"
   ]
  },
  {
   "cell_type": "markdown",
   "metadata": {},
   "source": [
    "## Maquina de vectores soporte\n",
    "Tambien es posible utilizar una SVM para clasificar las distintas clases de nuestro problema.  \n",
    "En este caso utilizamos `LinearSVC` para obtener un clasificador y utilizamos un script para ver cual será el mejor valor para el parametro C"
   ]
  },
  {
   "cell_type": "code",
   "execution_count": 93,
   "metadata": {},
   "outputs": [
    {
     "name": "stdout",
     "output_type": "stream",
     "text": [
      "Rendimiento sobre entrenamiento: 0.988\n",
      "Rendimiento sobre el conjunto de prueba: 0.965\n"
     ]
    }
   ],
   "source": [
    "svc = LinearSVC().fit(Xnormalized_train, y_train)\n",
    "print(\"Rendimiento sobre entrenamiento: {:.3f}\".format(svc.score(Xnormalized_train, y_train)))\n",
    "print(\"Rendimiento sobre el conjunto de prueba: {:.3f}\".format(svc.score(Xnormalized_test, y_test)))"
   ]
  },
  {
   "cell_type": "code",
   "execution_count": 94,
   "metadata": {},
   "outputs": [
    {
     "name": "stdout",
     "output_type": "stream",
     "text": [
      "Rendimiento sobre entrenamiento: 0.991\n",
      "Rendimiento sobre el conjunto de prueba: 0.972\n"
     ]
    }
   ],
   "source": [
    "svc = LinearSVC(C=0.5).fit(Xnormalized_train, y_train)\n",
    "print(\"Rendimiento sobre entrenamiento: {:.3f}\".format(svc.score(Xnormalized_train, y_train)))\n",
    "print(\"Rendimiento sobre el conjunto de prueba: {:.3f}\".format(svc.score(Xnormalized_test, y_test)))"
   ]
  },
  {
   "cell_type": "code",
   "execution_count": 95,
   "metadata": {},
   "outputs": [
    {
     "data": {
      "text/plain": [
       "<matplotlib.legend.Legend at 0x7fe61e007e48>"
      ]
     },
     "execution_count": 95,
     "metadata": {},
     "output_type": "execute_result"
    },
    {
     "data": {
      "image/png": "[encoded data removed]",
      "text/plain": [
       "<Figure size 432x288 with 1 Axes>"
      ]
     },
     "metadata": {
      "needs_background": "light"
     },
     "output_type": "display_data"
    }
   ],
   "source": [
    "training_accuracy = []\n",
    "test_accuracy = []\n",
    "\n",
    "c_settings = np.arange(0.0001,0.03,0.0001)\n",
    "for cparam in c_settings:\n",
    "    svc = LinearSVC(C=cparam).fit(Xnormalized_train, y_train)\n",
    "    a = svc.score(Xnormalized_train, y_train)\n",
    "    b = svc.score(Xnormalized_test, y_test)\n",
    "   \n",
    "    training_accuracy.append(a)\n",
    "    test_accuracy.append(b)\n",
    "    \n",
    "plt.plot(c_settings, training_accuracy, label=\"Datos de entrenamiento\")\n",
    "plt.plot(c_settings, test_accuracy, label=\"Datos de prueba\")\n",
    "plt.ylabel(\"Precisión\")\n",
    "plt.xlabel(\"C\")\n",
    "plt.legend()"
   ]
  },
  {
   "cell_type": "markdown",
   "metadata": {},
   "source": [
    "Aproximadamente sobre 0.003 se obtiene la precisión maxima con los datos de prueba. Para comprobarlo podemos utilizar `GridSearch`"
   ]
  },
  {
   "cell_type": "code",
   "execution_count": 96,
   "metadata": {},
   "outputs": [
    {
     "name": "stdout",
     "output_type": "stream",
     "text": [
      "Mejor resultado (media) en validación cruzada: 0.98\n",
      "Mejor clasificador encontrado: {} LinearSVC(C=0.0027, class_weight=None, dual=True, fit_intercept=True,\n",
      "          intercept_scaling=1, loss='squared_hinge', max_iter=1000,\n",
      "          multi_class='ovr', penalty='l2', random_state=None, tol=0.0001,\n",
      "          verbose=0)\n",
      "Evaluación sobre el conjunto de test: 0.99\n"
     ]
    }
   ],
   "source": [
    "param_grid = {'C': [x for x in np.arange(0.0001,0.05,0.0001)]}\n",
    "grid_search = GridSearchCV(LinearSVC(), param_grid, cv=5,\n",
    "                          return_train_score=True) \n",
    "grid_search.fit(Xnormalized_train, y_train)\n",
    "\n",
    "print(\"Mejor resultado (media) en validación cruzada: {:.2f}\".format(grid_search.best_score_))\n",
    "print(\"Mejor clasificador encontrado: {}\", grid_search.best_estimator_)\n",
    "print(\"Evaluación sobre el conjunto de test: {:.2f}\".format(grid_search.score(Xnormalized_test, y_test)))"
   ]
  },
  {
   "cell_type": "markdown",
   "metadata": {},
   "source": [
    "El mejor clasificador se da con C= 0.0027, aproximadamente 0.003. Podemos aplicarlo y ver la matriz de confusión que obtenemos."
   ]
  },
  {
   "cell_type": "code",
   "execution_count": 97,
   "metadata": {},
   "outputs": [
    {
     "name": "stdout",
     "output_type": "stream",
     "text": [
      "Matriz de confusión:\n",
      "[[53  1]\n",
      " [ 1 88]]\n",
      "              precision    recall  f1-score   support\n",
      "\n",
      "   malignant       0.98      0.98      0.98        54\n",
      "      benign       0.99      0.99      0.99        89\n",
      "\n",
      "    accuracy                           0.99       143\n",
      "   macro avg       0.99      0.99      0.99       143\n",
      "weighted avg       0.99      0.99      0.99       143\n",
      "\n"
     ]
    }
   ],
   "source": [
    "mvs = LinearSVC(C=0.003, class_weight=None, dual=True, fit_intercept=True,intercept_scaling=1, loss='squared_hinge', max_iter=1000, multi_class='ovr', penalty='l2', random_state=None, tol=0.0001, verbose=0)\n",
    "mvs.fit(Xnormalized_train, y_train)\n",
    "prediccion = mvs.predict(Xnormalized_test)\n",
    "print(\"Matriz de confusión:\")\n",
    "print(confusion_matrix(y_test, prediccion))\n",
    "print(classification_report(y_test, prediccion,target_names=y_names))"
   ]
  },
  {
   "cell_type": "markdown",
   "metadata": {},
   "source": [
    "Con un f1-score del 99%, nuestro modelo tiene TN=53, FP=1, FN=1, TP=88"
   ]
  },
  {
   "cell_type": "markdown",
   "metadata": {},
   "source": [
    "## Red neuronal\n",
    "Además, tambien podemos realizar una clasificación con redes neuronales utilizando `MLPClassifier`.  \n",
    "Por ejemplo, podemos crear una red neuronal con 3 capas ocultas de 10 neuronas cada una."
   ]
  },
  {
   "cell_type": "code",
   "execution_count": 101,
   "metadata": {},
   "outputs": [
    {
     "data": {
      "text/plain": [
       "MLPClassifier(activation='relu', alpha=0.0001, batch_size='auto', beta_1=0.9,\n",
       "              beta_2=0.999, early_stopping=False, epsilon=1e-08,\n",
       "              hidden_layer_sizes=(10, 10, 10), learning_rate='constant',\n",
       "              learning_rate_init=0.001, max_iter=500, momentum=0.9,\n",
       "              n_iter_no_change=10, nesterovs_momentum=True, power_t=0.5,\n",
       "              random_state=None, shuffle=True, solver='adam', tol=0.0001,\n",
       "              validation_fraction=0.1, verbose=False, warm_start=False)"
      ]
     },
     "execution_count": 101,
     "metadata": {},
     "output_type": "execute_result"
    }
   ],
   "source": [
    "mlp = MLPClassifier(hidden_layer_sizes=(10,10,10), max_iter=500)\n",
    "mlp.fit(Xnormalized_train, y_train)"
   ]
  },
  {
   "cell_type": "markdown",
   "metadata": {},
   "source": [
    "Una vez entrenada, podemos ver las predicciones que se obtienen sobre los datos de prueba y compararlos con los que se deberían de haber obtenido."
   ]
  },
  {
   "cell_type": "code",
   "execution_count": 102,
   "metadata": {},
   "outputs": [],
   "source": [
    "predicciones = mlp.predict(Xnormalized_test)"
   ]
  },
  {
   "cell_type": "code",
   "execution_count": 103,
   "metadata": {
    "scrolled": false
   },
   "outputs": [
    {
     "name": "stdout",
     "output_type": "stream",
     "text": [
      "Matriz de confusión:\n",
      "[[53  1]\n",
      " [ 2 87]]\n",
      "              precision    recall  f1-score   support\n",
      "\n",
      "   malignant       0.96      0.98      0.97        54\n",
      "      benign       0.99      0.98      0.98        89\n",
      "\n",
      "    accuracy                           0.98       143\n",
      "   macro avg       0.98      0.98      0.98       143\n",
      "weighted avg       0.98      0.98      0.98       143\n",
      "\n"
     ]
    }
   ],
   "source": [
    "print(\"Matriz de confusión:\")\n",
    "print(confusion_matrix(y_test,predicciones))\n",
    "print(classification_report(y_test,predicciones,target_names=y_names))"
   ]
  },
  {
   "cell_type": "markdown",
   "metadata": {},
   "source": [
    "Como podemos observar, hemos obtenido una precisión del 97% en el f1-score.\n",
    "\n",
    "Una vez más, podemos utilizar el metodo `GridSearchCV` para realizar un ajuste de parámetros. \n",
    "En este caso nos creamos un diccionario con distintos valores de las capas internas y máximo de iteraciones."
   ]
  },
  {
   "cell_type": "code",
   "execution_count": 113,
   "metadata": {},
   "outputs": [],
   "source": [
    "param_grid = {'hidden_layer_sizes': [(1),(2),(5),(2,2),(5,5),(10,10,10)],\n",
    "              'max_iter': [500, 750, 1000],\n",
    "             }"
   ]
  },
  {
   "cell_type": "code",
   "execution_count": 114,
   "metadata": {},
   "outputs": [],
   "source": [
    "grid_search = GridSearchCV(MLPClassifier(), param_grid, cv=5,\n",
    "                          return_train_score=True) "
   ]
  },
  {
   "cell_type": "code",
   "execution_count": 115,
   "metadata": {},
   "outputs": [
    {
     "name": "stdout",
     "output_type": "stream",
     "text": [
      "Mejor resultado (media) en validación cruzada: 0.98\n",
      "Mejor clasificador encontrado: MLPClassifier(activation='relu', alpha=0.0001, batch_size='auto', beta_1=0.9,\n",
      "              beta_2=0.999, early_stopping=False, epsilon=1e-08,\n",
      "              hidden_layer_sizes=(5, 5), learning_rate='constant',\n",
      "              learning_rate_init=0.001, max_iter=500, momentum=0.9,\n",
      "              n_iter_no_change=10, nesterovs_momentum=True, power_t=0.5,\n",
      "              random_state=None, shuffle=True, solver='adam', tol=0.0001,\n",
      "              validation_fraction=0.1, verbose=False, warm_start=False)\n",
      "Evaluación sobre el conjunto de test: 0.99\n"
     ]
    }
   ],
   "source": [
    "grid_search.fit(Xnormalized_train, y_train)\n",
    "print(\"Mejor resultado (media) en validación cruzada: {:.2f}\".format(grid_search.best_score_))\n",
    "print(\"Mejor clasificador encontrado: {}\".format(grid_search.best_estimator_))\n",
    "print(\"Evaluación sobre el conjunto de test: {:.2f}\".format(grid_search.score(Xnormalized_test, y_test)))"
   ]
  },
  {
   "cell_type": "markdown",
   "metadata": {},
   "source": [
    "Una vez ejecutado, observamos como el mejor clasificador ha sido el siguiente:\n",
    "\n",
    "`MLPClassifier(activation='relu', alpha=0.0001, batch_size='auto', beta_1=0.9,\n",
    "              beta_2=0.999, early_stopping=False, epsilon=1e-08,\n",
    "              hidden_layer_sizes=(5, 5), learning_rate='constant',\n",
    "              learning_rate_init=0.001, max_iter=1000, momentum=0.9,\n",
    "              n_iter_no_change=10, nesterovs_momentum=True, power_t=0.5,\n",
    "              random_state=None, shuffle=True, solver='adam', tol=0.0001,\n",
    "              validation_fraction=0.1, verbose=False, warm_start=False)`\n",
    "              \n",
    "Con una precisión del 99%.  \n",
    "Si lo aplicamos podemos obtener la matriz de confusión de el mejor."
   ]
  },
  {
   "cell_type": "code",
   "execution_count": 116,
   "metadata": {},
   "outputs": [
    {
     "name": "stdout",
     "output_type": "stream",
     "text": [
      "Matriz de confusión:\n",
      "[[53  1]\n",
      " [ 4 85]]\n",
      "              precision    recall  f1-score   support\n",
      "\n",
      "   malignant       0.93      0.98      0.95        54\n",
      "      benign       0.99      0.96      0.97        89\n",
      "\n",
      "    accuracy                           0.97       143\n",
      "   macro avg       0.96      0.97      0.96       143\n",
      "weighted avg       0.97      0.97      0.97       143\n",
      "\n"
     ]
    }
   ],
   "source": [
    "nn = MLPClassifier(activation='relu', alpha=0.0001, batch_size='auto', beta_1=0.9,\n",
    "              beta_2=0.999, early_stopping=False, epsilon=1e-08,\n",
    "              hidden_layer_sizes=(5, 5), learning_rate='constant',\n",
    "              learning_rate_init=0.001, max_iter=750, momentum=0.9,\n",
    "              n_iter_no_change=10, nesterovs_momentum=True, power_t=0.5,\n",
    "              random_state=None, shuffle=True, solver='adam', tol=0.0001,\n",
    "              validation_fraction=0.1, verbose=False, warm_start=False)\n",
    "nn.fit(Xnormalized_train, y_train)\n",
    "predicts = nn.predict(Xnormalized_test)\n",
    "print(\"Matriz de confusión:\")\n",
    "\n",
    "print(confusion_matrix(y_test,predicts))\n",
    "print(classification_report(y_test,predicts,target_names=y_names))"
   ]
  },
  {
   "cell_type": "markdown",
   "metadata": {},
   "source": [
    "Y como podemos ver, con un f1-score del 99%, nuestra red neuronal de 2 capas ocultas de 5 neuronas cada una es la mejor. Tiene 53 TP, 1 FP, 1 FN y 88 FN"
   ]
  },
  {
   "cell_type": "code",
   "execution_count": null,
   "metadata": {},
   "outputs": [],
   "source": []
  }
 ],
 "metadata": {
  "kernelspec": {
   "display_name": "Python 3",
   "language": "python",
   "name": "python3"
  },
  "language_info": {
   "codemirror_mode": {
    "name": "ipython",
    "version": 3
   },
   "file_extension": ".py",
   "mimetype": "text/x-python",
   "name": "python",
   "nbconvert_exporter": "python",
   "pygments_lexer": "ipython3",
   "version": "3.7.3"
  }
 },
 "nbformat": 4,
 "nbformat_minor": 2
}
